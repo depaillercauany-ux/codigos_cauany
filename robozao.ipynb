{
 "cells": [
  {
   "cell_type": "code",
   "execution_count": 15,
   "id": "ece8ec0a",
   "metadata": {},
   "outputs": [],
   "source": [
    "import pyautogui as aut\n",
    "aut.mouseInfo()"
   ]
  },
  {
   "cell_type": "code",
   "execution_count": 19,
   "id": "2e9d4824",
   "metadata": {},
   "outputs": [],
   "source": [
    "import pyautogui as aut\n",
    "\n",
    "aut.hotkey('win')\n",
    "aut.write('paint', interval=0.1)\n",
    "aut.press('enter')\n",
    "aut.sleep(3)\n",
    "aut.moveTo(764,238)\n",
    "aut.dragTo(729,700, duration=0.5)\n",
    "aut.dragTo(1089,483, duration=0.5)\n",
    "aut.moveTo(828,238)\n",
    "aut.dragTo(704,481, duration=0.5)\n",
    "aut.dragTo(1107,355, duration=0.5)"
   ]
  },
  {
   "cell_type": "code",
   "execution_count": 17,
   "id": "57054cba",
   "metadata": {},
   "outputs": [],
   "source": [
    "aut.mouseInfo()\n"
   ]
  }
 ],
 "metadata": {
  "kernelspec": {
   "display_name": "Python 3",
   "language": "python",
   "name": "python3"
  },
  "language_info": {
   "codemirror_mode": {
    "name": "ipython",
    "version": 3
   },
   "file_extension": ".py",
   "mimetype": "text/x-python",
   "name": "python",
   "nbconvert_exporter": "python",
   "pygments_lexer": "ipython3",
   "version": "3.13.2"
  }
 },
 "nbformat": 4,
 "nbformat_minor": 5
}
