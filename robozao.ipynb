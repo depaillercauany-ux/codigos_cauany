{
 "cells": [
  {
   "cell_type": "code",
   "execution_count": 2,
   "id": "ece8ec0a",
   "metadata": {},
   "outputs": [],
   "source": [
    "import pyautogui as aut"
   ]
  },
  {
   "cell_type": "code",
   "execution_count": 91,
   "id": "2e9d4824",
   "metadata": {},
   "outputs": [],
   "source": [
    "\n",
    "\n",
    "#pressiono a tecla de atalho win +r\n",
    "aut.press(\"win\")\n",
    "#escrever notepad\n",
    "aut.write(\"Paint\", interval=0.2)\n",
    "#espera 1 segundo\n",
    "aut.sleep(1)\n",
    "#aperte o Enter\n",
    "aut.press(\"Enter\")\n",
    "aut.sleep(1)\n",
    "aut.moveTo(799,255)\n",
    "aut.doubleClick()\n",
    "aut.dragTo(799,498)\n",
    "# aut.moveTo(434,59)\n",
    "# aut.sleep(0.7)\n",
    "# aut.click()\n",
    "# aut.sleep(1)\n",
    "# aut.sleep(0.6)\n",
    "# aut.press(\"Enter\")\n"
   ]
  },
  {
   "cell_type": "code",
   "execution_count": 86,
   "id": "57054cba",
   "metadata": {},
   "outputs": [],
   "source": [
    "aut.mouseInfo()\n"
   ]
  }
 ],
 "metadata": {
  "kernelspec": {
   "display_name": "Python 3",
   "language": "python",
   "name": "python3"
  },
  "language_info": {
   "codemirror_mode": {
    "name": "ipython",
    "version": 3
   },
   "file_extension": ".py",
   "mimetype": "text/x-python",
   "name": "python",
   "nbconvert_exporter": "python",
   "pygments_lexer": "ipython3",
   "version": "3.13.2"
  }
 },
 "nbformat": 4,
 "nbformat_minor": 5
}
