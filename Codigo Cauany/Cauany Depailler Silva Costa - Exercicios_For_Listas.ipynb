{
 "cells": [
  {
   "cell_type": "markdown",
   "id": "d2b6c514",
   "metadata": {},
   "source": [
    "### 🚀 Exercícios Melhorados de Python: Listas e Loops for"
   ]
  },
  {
   "cell_type": "markdown",
   "id": "44a3875e",
   "metadata": {},
   "source": [
    "### 🔍 1. Filtro de Filmes por Gênero 🎬\n",
    "\n",
    "Desafio:\n",
    "\n",
    "Crie um loop for para percorrer a lista de filmes e de gêneros e depois mostre na tela apenas os filmes de ação."
   ]
  },
  {
   "cell_type": "code",
   "execution_count": 17,
   "id": "365515ab",
   "metadata": {},
   "outputs": [
    {
     "name": "stdout",
     "output_type": "stream",
     "text": [
      "O Poderoso Chefão não é um filme de ação\n",
      "Vingadores : Ultimato, é um filme de ação\n",
      "Toy Story não é um filme de ação\n",
      "Velozes e Furiosos, é um filme de ação\n",
      "Missão Impossível, é um filme de ação\n",
      "De Volta para o Futuro não é um filme de ação\n",
      "Zodiaco não é um filme de ação\n"
     ]
    }
   ],
   "source": [
    "filmes = [\"O Poderoso Chefão\", \"Vingadores : Ultimato\", \"Toy Story\", \"Velozes e Furiosos\", \"Missão Impossível\", \"De Volta para o Futuro\",\"Zodiaco\"]\n",
    "generos = [\"Drama\", \"Ação\", \"Animação\", \"Ação\",\"Ação\", \"Aventura\", \"Suspense\"]\n",
    "\n",
    "### Seu código aqui\n",
    "\n",
    "for item in range(len(filmes)):\n",
    "    if generos[item] == \"Ação\":\n",
    "        print(f\"{filmes[item]}, é um filme de ação\")\n",
    "    else:\n",
    "        print(f\"{filmes[item]} não é um filme de ação\")    "
   ]
  },
  {
   "cell_type": "markdown",
   "id": "4def914a",
   "metadata": {},
   "source": [
    "Agora crie um código que verfique a nota de cada filme e recomende para o usuário os filmes com notas superioes a 7.0"
   ]
  },
  {
   "cell_type": "code",
   "execution_count": 18,
   "id": "52470059",
   "metadata": {},
   "outputs": [
    {
     "name": "stdout",
     "output_type": "stream",
     "text": [
      "O Poderoso Chefão, é um filme bom, te recomendo\n",
      "Vingadores : Ultimato, é um filme bom, te recomendo\n",
      "Toy Story, é um filme bom, te recomendo\n",
      "Velozes e Furiosos não é um filme, não te recomendo,\n",
      "Missão Impossível, é um filme bom, te recomendo\n",
      "De Volta para o Futuro, é um filme bom, te recomendo\n",
      "Zodiaco, é um filme bom, te recomendo\n",
      "Thunderbolts não é um filme, não te recomendo,\n"
     ]
    }
   ],
   "source": [
    "filmes = [\"O Poderoso Chefão\", \"Vingadores : Ultimato\", \"Toy Story\", \"Velozes e Furiosos\", \"Missão Impossível\", \"De Volta para o Futuro\", \"Zodiaco\", \"Thunderbolts\"]\n",
    "generos = [\"Drama\", \"Ação\", \"Animação\", \"Ação\",\"Ação\", \"Aventura\", \"Suspense\"]\n",
    "notas_filmes = [9.0, 9.5, 10, 5.2, 8.0, 10, 9.8, 5.5]\n",
    "\n",
    "### Seu código aqui\n",
    "\n",
    "for item in range(len(filmes)):\n",
    "    if notas_filmes[item] >7.0:\n",
    "        print(f\"{filmes[item]}, é um filme bom, te recomendo\")\n",
    "    else:\n",
    "        print(f\"{filmes[item]} não é um filme, não te recomendo,\")    "
   ]
  },
  {
   "cell_type": "markdown",
   "id": "8c04f1b7",
   "metadata": {},
   "source": [
    "### 📊 2. Análise de Dados de Redes Sociais 📱"
   ]
  },
  {
   "cell_type": "markdown",
   "id": "939eeec4",
   "metadata": {},
   "source": [
    "Você tem uma lista de likes por postagem:\n",
    "\n",
    "Desafio:\n",
    "\n",
    "Calcule a média de likes.\n",
    "\n",
    "\n",
    "Identifique quantos posts estão acima da média e print:\n",
    "\n",
    "\n",
    "\"📈 [X] posts bombaram (+ que [média] likes)\""
   ]
  },
  {
   "cell_type": "code",
   "execution_count": 22,
   "id": "5b380686",
   "metadata": {},
   "outputs": [
    {
     "name": "stdout",
     "output_type": "stream",
     "text": [
      "a media de like é 164.0\n"
     ]
    },
    {
     "ename": "IndexError",
     "evalue": "list index out of range",
     "output_type": "error",
     "traceback": [
      "\u001b[31m---------------------------------------------------------------------------\u001b[39m",
      "\u001b[31mIndexError\u001b[39m                                Traceback (most recent call last)",
      "\u001b[36mCell\u001b[39m\u001b[36m \u001b[39m\u001b[32mIn[22]\u001b[39m\u001b[32m, line 16\u001b[39m\n\u001b[32m     14\u001b[39m     \u001b[38;5;28mprint\u001b[39m(\u001b[33m\"\u001b[39m\u001b[38;5;132;01m{influencers[item]}\u001b[39;00m\u001b[33m teve \u001b[39m\u001b[38;5;132;01m{like_posts[item]}\u001b[39;00m\u001b[33m like, que é acima da media\u001b[39m\u001b[33m\"\u001b[39m)\n\u001b[32m     15\u001b[39m \u001b[38;5;28;01melse\u001b[39;00m:\n\u001b[32m---> \u001b[39m\u001b[32m16\u001b[39m     \u001b[38;5;28mprint\u001b[39m(\u001b[33mf\u001b[39m\u001b[33m\"\u001b[39m\u001b[38;5;132;01m{\u001b[39;00m\u001b[43minfluencers\u001b[49m\u001b[43m[\u001b[49m\u001b[43mitem\u001b[49m\u001b[43m]\u001b[49m\u001b[38;5;132;01m}\u001b[39;00m\u001b[33m teve \u001b[39m\u001b[38;5;132;01m{\u001b[39;00mlike_posts[item]\u001b[38;5;132;01m}\u001b[39;00m\u001b[33m like, que é abaixo da media\u001b[39m\u001b[33m\"\u001b[39m)\n",
      "\u001b[31mIndexError\u001b[39m: list index out of range"
     ]
    }
   ],
   "source": [
    "## Nome dos influencers\n",
    "influencers = [\"Virginia\", \"Carlinhos Maia\", \"Deolane\", \"Poze\", \"Matheus Costa\",\"Zé Felipe\"]\n",
    "### likes por post\n",
    "like_posts = [120, 245, 89, 310, 42, 178] \n",
    "## Calcula o total de likes da lista\n",
    "total_likes = sum(like_posts)\n",
    "\n",
    "# Sua vez calcule á media de likes\n",
    "media = total_likes / len(like_posts)\n",
    "print(f\"a media de like é {media}\")\n",
    "# Depois veja qual influencer teve likes acima da média\n",
    "for i in range(len(influencers)):\n",
    "    if like_posts[i] > 164:\n",
    "        print(\"{influencers[item]} teve {like_posts[item]} like, que é acima da media\")\n",
    "    else:\n",
    "        print(f\"{influencers[item]} teve {like_posts[item]} like, que é abaixo da media\")\n"
   ]
  },
  {
   "cell_type": "markdown",
   "id": "d7cfa84f",
   "metadata": {},
   "source": [
    "### 🎯 Bônus Extra: Desafio dos Emojis Aleatórios\n",
    "\n",
    "✅ Gere uma lista de 10 emojis aleatórios (use [\"🐍\", \"🔥\", \"🎮\", \"👾\", \"🚀\"]) e:\n",
    "\n",
    "✅ Conte quantas vezes \"🔥\" aparece.\n",
    "\n",
    "\n",
    "✅ Substitua \"🎮\" por \"💻\".\n",
    "\n",
    "\n",
    "✅ Print a lista final."
   ]
  },
  {
   "cell_type": "code",
   "execution_count": 12,
   "id": "28ab2513",
   "metadata": {},
   "outputs": [
    {
     "name": "stdout",
     "output_type": "stream",
     "text": [
      "4\n",
      "['🐍', '🔥', '💻', '👾', '🚀', '🔥', '🔥', '🔥', '🔥🔥🚀🔥🔥🔥🚀🔥🔥🔥🔥👾🔥🔥🔥🔥🔥🚀🔥🔥🔥🔥🔥🔥🔥👾🔥🔥🔥🔥🔥🔥🔥🚀🔥🔥🔥', '🔥🔥']\n"
     ]
    }
   ],
   "source": [
    "lista_emojis = [\"🐍\", \"🔥\", \"🎮\", \"👾\", \"🚀\",\"🔥\",\"🔥\",\"🔥\",\"🔥🔥🚀🔥🔥🔥🚀🔥🔥🔥🔥👾🔥🔥🔥🔥🔥🚀🔥🔥🔥🔥🔥🔥🔥👾🔥🔥🔥🔥🔥🔥🔥🚀🔥🔥🔥\",\"🔥🔥\"]\n",
    "\n",
    "print(lista_emojis.count(\"🔥\"))\n",
    "      \n",
    "lista_emojis[2]= \"💻\"\n",
    "\n",
    "print(lista_emojis)"
   ]
  }
 ],
 "metadata": {
  "kernelspec": {
   "display_name": "Python 3",
   "language": "python",
   "name": "python3"
  },
  "language_info": {
   "codemirror_mode": {
    "name": "ipython",
    "version": 3
   },
   "file_extension": ".py",
   "mimetype": "text/x-python",
   "name": "python",
   "nbconvert_exporter": "python",
   "pygments_lexer": "ipython3",
   "version": "3.13.2"
  }
 },
 "nbformat": 4,
 "nbformat_minor": 5
}
