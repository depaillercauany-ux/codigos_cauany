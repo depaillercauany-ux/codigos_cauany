{
 "cells": [
  {
   "cell_type": "markdown",
   "id": "790cdba8",
   "metadata": {},
   "source": [
    "### Aula de Python para Iniciantes - Mão na Massa 🐍\n",
    "\"Primeiros Passos em Python - Do Zero ao Primeiro Programa\""
   ]
  },
  {
   "cell_type": "markdown",
   "id": "30dc5e40",
   "metadata": {},
   "source": [
    "**O que é Python?**\n",
    "\n",
    "Linguagem de programação poderosa e fácil de aprender\n",
    "\n",
    "**Usada no YouTube, Instagram, NASA, Netflix**\n",
    "\n",
    "**Ótima para iniciantes*\n"
   ]
  },
  {
   "cell_type": "markdown",
   "id": "dbfc8226",
   "metadata": {},
   "source": [
    "Primeiro Contato:"
   ]
  },
  {
   "cell_type": "code",
   "execution_count": 9,
   "id": "fdfdbe54",
   "metadata": {},
   "outputs": [
    {
     "name": "stdout",
     "output_type": "stream",
     "text": [
      "Hello World!\n",
      "Sejam bem-vindos ao mundo do Python! 🎉\n"
     ]
    }
   ],
   "source": [
    "print(\"Hello World!\")\n",
    "print(\"Sejam bem-vindos ao mundo do Python! 🎉\")"
   ]
  },
  {
   "cell_type": "markdown",
   "id": "21988e6d",
   "metadata": {},
   "source": [
    "### 🖥️ Parte 2: Primeiros Comandos \n",
    "\n",
    "2.1 O Poder do print()"
   ]
  },
  {
   "cell_type": "code",
   "execution_count": null,
   "id": "b6b868cf",
   "metadata": {},
   "outputs": [
    {
     "name": "stdout",
     "output_type": "stream",
     "text": [
      "Oi, eu sou o Python!\n",
      "Estou aprendendo a programar.\n",
      "Isso é muito legal!\n",
      "Meu nome é cauany e tenho 15 anos\n",
      "Meu nome é João e tenho 17 anos\n"
     ]
    }
   ],
   "source": [
    "# Exemplo 1\n",
    "print(\"Oi, eu sou o python!\")\n",
    "print(\"Estou aprendendo a programar.\")\n",
    "print(\"Isso é muito legal!\")\n",
    "\n",
    "# Exercício 1: Crie um print que mostre seu nome e idade\n",
    "print(\"Meu nome é cauany e tenho 15 anos\")\n",
    "\n",
    "# (Exemplo de solução)\n",
    "print(\"Meu nome é João e tenho 17 anos\")"
   ]
  },
  {
   "cell_type": "markdown",
   "id": "af22de51",
   "metadata": {},
   "source": [
    "2.2 Variáveis Simples"
   ]
  },
  {
   "cell_type": "code",
   "execution_count": 31,
   "id": "28d3d22b",
   "metadata": {},
   "outputs": [
    {
     "name": "stdout",
     "output_type": "stream",
     "text": [
      "Maria\n",
      "17\n",
      "Cachorro\n",
      "2008\n"
     ]
    }
   ],
   "source": [
    "# Exemplo 2\n",
    "nome = \"Maria\"\n",
    "idade = 17\n",
    "print(nome)\n",
    "print(idade)\n",
    "\n",
    "# Exercício 2: Crie variáveis para:\n",
    "\n",
    "# - Seu animal favorito\n",
    "meu_amimal = \"Cachorro\"\n",
    "# - Seu ano de nascimento\n",
    "meu_nascimento = \"2008\"\n",
    "# E mostre elas com print\n",
    "print(meu_amimal)\n",
    "print(meu_nascimento)"
   ]
  },
  {
   "cell_type": "markdown",
   "id": "3657d1d7",
   "metadata": {},
   "source": [
    "2.3 Inputs - Conversando com o Usuário\n"
   ]
  },
  {
   "cell_type": "code",
   "execution_count": 33,
   "id": "4f7dd464",
   "metadata": {},
   "outputs": [
    {
     "name": "stdout",
     "output_type": "stream",
     "text": [
      "Olá, cauny ! Bem-vindo ao Python!\n",
      "ola cauny, seu jogo farito é volei,vc joga 12h por semana.\n"
     ]
    }
   ],
   "source": [
    "# Exemplo 3\n",
    "nome = input(\"Qual é o seu nome? \")\n",
    "print(\"Olá,\", nome, \"! Bem-vindo ao Python!\")\n",
    "\n",
    "# Exercício 3: Faça um programa que pergunte:\n",
    "\n",
    "# - Qual seu jogo favorito\n",
    "jogo =input(\"digite seu jogo favorito?\")\n",
    "# - Quantas horas você joga por semana\n",
    "horas =input(\"digite quantas horas vc joga?\")\n",
    "# E depois mostre  as informações\n",
    "print(f\"ola {nome}, seu jogo farito é {jogo},vc joga {horas} por semana.\")\n"
   ]
  },
  {
   "cell_type": "markdown",
   "id": "1f68646d",
   "metadata": {},
   "source": [
    "### 🎮 Parte 3: Mini-Projetos"
   ]
  },
  {
   "cell_type": "markdown",
   "id": "acfc8f35",
   "metadata": {},
   "source": [
    "Projeto 1: Gerador de Apelidos"
   ]
  },
  {
   "cell_type": "code",
   "execution_count": 34,
   "id": "8447908d",
   "metadata": {},
   "outputs": [
    {
     "name": "stdout",
     "output_type": "stream",
     "text": [
      "--- Gerador de Apelidos Engraçados ---\n",
      "Seu apelido poderia ser: Super jogo de dentro feijoada!\n"
     ]
    }
   ],
   "source": [
    "print(\"--- Gerador de Apelidos Engraçados ---\")\n",
    "comida = input(\"Qual sua comida favorita? \")\n",
    "animal = input(\"Qual seu animal preferido? \")\n",
    "print(\"Seu apelido poderia ser:\", \"Super \" + comida + \" \" + animal + \"!\")"
   ]
  },
  {
   "cell_type": "markdown",
   "id": "190b0e98",
   "metadata": {},
   "source": [
    "Projeto 2: Calculadora de Idade"
   ]
  },
  {
   "cell_type": "code",
   "execution_count": 20,
   "id": "9b15af62",
   "metadata": {},
   "outputs": [
    {
     "name": "stdout",
     "output_type": "stream",
     "text": [
      "qual e sua data de nacsimento é 2009, e estamos em  2025. 16 anos \n"
     ]
    }
   ],
   "source": [
    "ano_atual = int (input(\"qual e o ano atual?\"))\n",
    "ano_nasciento = int(input(\"qual é sua data de nascimento?\"))\n",
    "resultado = ano_atual - ano_nasciento \n",
    "print (f\"qual e sua data de nacsimento é {ano_nasciento}, e estamos em  {ano_atual}. {resultado} anos \")"
   ]
  },
  {
   "cell_type": "markdown",
   "id": "67e253db",
   "metadata": {},
   "source": []
  },
  {
   "cell_type": "markdown",
   "id": "27b23eb0",
   "metadata": {},
   "source": [
    "Projeto 3: Quiz Simples"
   ]
  },
  {
   "cell_type": "code",
   "execution_count": 13,
   "id": "86da1065",
   "metadata": {},
   "outputs": [
    {
     "name": "stdout",
     "output_type": "stream",
     "text": [
      "--- Quiz de Programação ---\n",
      "Ops, na verdade é sim! 😊\n"
     ]
    }
   ],
   "source": [
    "print(\"--- Quiz de Programação ---\")\n",
    "resposta = input(\"Python é uma linguagem de programação? (sim/não) \")\n",
    "if resposta == \"sim\":\n",
    "    print(\"Correto! 🎉\")\n",
    "else:\n",
    "    print(\"Ops, na verdade é sim! 😊\")"
   ]
  },
  {
   "cell_type": "markdown",
   "id": "703efc09",
   "metadata": {},
   "source": [
    "### 💡 Parte 4: Desafios "
   ]
  },
  {
   "cell_type": "markdown",
   "id": "8ee84d28",
   "metadata": {},
   "source": [
    "**Desafio 1: Crie um programa que pergunta:**\n",
    "\n",
    "**Dois números favoritos**\n",
    "\n",
    "**Seu signo**\n",
    "\n",
    "\n",
    "**E depois mostra: \"Seu código secreto é: num1 + signo + num2**"
   ]
  },
  {
   "cell_type": "code",
   "execution_count": 27,
   "id": "9949b081",
   "metadata": {},
   "outputs": [
    {
     "name": "stdout",
     "output_type": "stream",
     "text": [
      "seu codigo é:5.0+10.0+vigem\n"
     ]
    }
   ],
   "source": [
    "numero_favorito = float (input(\"digite qual e seu pimero  número favorito?\"))\n",
    "segundo =float (input(\"digite seu segundo número favorito?\"))\n",
    "astrologia = input(\" qual e seu sigino?\")\n",
    "print(f\"seu codigo é:{numero_favorito}+{segundo}+{astrologia}\")\n"
   ]
  },
  {
   "cell_type": "markdown",
   "id": "b30a44d2",
   "metadata": {},
   "source": [
    "**Desafio 2: Crie uma história maluca que combina 3 inputs do usuário (ex: nome, objeto e lugar)**"
   ]
  },
  {
   "cell_type": "code",
   "execution_count": 2,
   "id": "8f8587bb",
   "metadata": {},
   "outputs": [
    {
     "name": "stdout",
     "output_type": "stream",
     "text": [
      "Cauany estava no restaurante comendo lasanha na messa  é descobri uma fofoca \n"
     ]
    }
   ],
   "source": [
    "nome = input(\"qual é seu nome?\")\n",
    "comida= input(\"qual eé a comida  que vc gosta?\")\n",
    "lugar =input(\"onde vc estava?\")\n",
    "print(f\"{nome} estava no restaurante comendo {comida} na {lugar} é descobri uma fofoca \")"
   ]
  },
  {
   "cell_type": "markdown",
   "id": "dbd8c544",
   "metadata": {},
   "source": [
    "### 🌟 Encerramento:\n",
    "\n",
    "Revisão rápida do que aprenderam:\n",
    "\n",
    "**print() para mostrar informações**\n",
    "\n",
    "**input() para receber dados**\n",
    "\n",
    "**Variáveis para guardar valores**\n",
    "\n",
    "**Operações simples**"
   ]
  }
 ],
 "metadata": {
  "kernelspec": {
   "display_name": "Python 3",
   "language": "python",
   "name": "python3"
  },
  "language_info": {
   "codemirror_mode": {
    "name": "ipython",
    "version": 3
   },
   "file_extension": ".py",
   "mimetype": "text/x-python",
   "name": "python",
   "nbconvert_exporter": "python",
   "pygments_lexer": "ipython3",
   "version": "3.13.2"
  }
 },
 "nbformat": 4,
 "nbformat_minor": 5
}
