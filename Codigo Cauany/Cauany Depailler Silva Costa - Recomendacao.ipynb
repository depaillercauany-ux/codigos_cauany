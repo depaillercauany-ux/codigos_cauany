{
 "cells": [
  {
   "attachments": {
    "image.png": {
     "image/png": "[encoded data removed]"
    }
   },
   "cell_type": "markdown",
   "id": "1aad6e14",
   "metadata": {},
   "source": [
    "### Recomendação de Filmes\n",
    "\n",
    "Você vai criar um sistema de recomendação de filmes que pergunta ao usuário:\n",
    "\n",
    "Qual gênero de filme ele prefere (Ação, Comédia ou Terror).\n",
    "\n",
    "Como está seu humor hoje (Feliz, Neutro ou Estressado).\n",
    "\n",
    "Com base nessas respostas, o programa deve recomendar um filme diferente usando estruturas condicionais (if, elif, else).\n",
    "\n",
    "Regras de Recomendação:\n",
    "\n",
    "![image.png](attachment:image.png)\n",
    "\n",
    "\n",
    "Requisitos do Código:\n",
    "O programa deve perguntar o gênero e o humor.\n",
    "\n",
    "Se o usuário digitar uma opção inválida, o programa deve dizer: \"Opção inválida, tente novamente!\" e encerrar.\n",
    "\n",
    "Use if, elif e else para decidir qual filme recomendar.\n",
    "\n",
    "No final, mostre a recomendação em uma mensagem como:\n",
    "\n",
    "\"Com base no seu gênero preferido (Ação) e humor (Estressado), recomendamos: Duro de Matar!\"\n",
    "\n"
   ]
  },
  {
   "cell_type": "markdown",
   "id": "2d13d70a",
   "metadata": {},
   "source": []
  },
  {
   "cell_type": "code",
   "execution_count": null,
   "id": "0cfcf548",
   "metadata": {},
   "outputs": [
    {
     "name": "stdout",
     "output_type": "stream",
     "text": [
      "eu te recomendo a noite do terror \n"
     ]
    }
   ],
   "source": [
    "genero_filme = input(\"Qual o gênero de filme você prefere? (Ação, Comédia ou Terror)\")\n",
    "humor = input(\"Como está seu humor hoje ? (Feliz, Neutro ou Estressado)\")\n",
    "if genero_filme == \"açao\" and humor == \"feliz\":\n",
    "    print(\"eu te recomendo Homem-Aranha\")\n",
    "elif genero_filme == \"açao\" and humor == \"neutro\":\n",
    "    print(\"eu te recomendo joho wick\") \n",
    "elif genero_filme == \"açao\" and humor == \"estressado\":\n",
    "    print(\"eu te recomendo duro de matar\")  \n",
    "elif genero_filme == \"comedia\" and humor == \"feliz\":\n",
    "    print(\"eu te recomendo superbad\")  \n",
    "elif genero_filme == \"comedia\" and humor == \"neutro\":    \n",
    "    print(\"eu te recomendo escola do rock\")      \n",
    "elif genero_filme == \"comedia\" and humor == \"estressado\":    \n",
    "    print(\"eu te recomendo  S beber não se case \")\n",
    "elif genero_filme == \"terror\" and humor == \"feliz\":\n",
    "    print(\"eu te recomendo a noite do terror \")  \n",
    "elif  genero_filme == \"terror\" and humor == \"neutro\":\n",
    "    print(\"eu te recomendo invocação do mal\")     \n",
    "else:\n",
    "    print(\"eu te recomendo O iluminado \")          "
   ]
  },
  {
   "cell_type": "markdown",
   "id": "6457fde6",
   "metadata": {},
   "source": [
    "### Recomenda Jogo\n",
    "\n",
    "Você vai criar um sistema de recomendação de jogos que pergunta ao usuário:\n",
    "\n",
    "Qual gênero de jogo ele mais gosta (FPS, RPG, Esportes ou Battle Royale).\n",
    "\n",
    "Quanto tempo ele tem para jogar (Curto: 1h, Médio: 2-3h, Longo: 4h+).\n",
    "\n",
    "Com base nessas respostas, o programa deve recomendar um jogo usando estruturas condicionais (if, elif, else).\n",
    "\n",
    "Regras de Recomendação:\n",
    "\n",
    "\n",
    "\n",
    "Se o usuário digitar uma opção inválida, o programa deve dizer: \"Opção inválida, tente novamente!\" e encerrar.\n",
    "\n",
    "Use if, elif e else para decidir qual jogo recomendar.\n",
    "\n",
    "No final, mostre a recomendação em uma mensagem como:\n",
    "\n",
    "\"Baseado no seu gênero favorito (RPG) e tempo disponível (Longo), recomendamos: Elden Ring!\"\n",
    "\n",
    "Exemplo de Saída:\n",
    "=== Escolha o Seu Próximo Jogo ===  \n",
    "Qual seu gênero de jogo favorito? (FPS, RPG, Esportes, Battle Royale): RPG  \n",
    "Quanto tempo você tem para jogar? (Curto, Médio, Longo): Longo  \n",
    "\n",
    "Baseado no seu gênero favorito (RPG) e tempo disponível (Longo), recomendamos: Elden Ring!  \n",
    "Dicas:\n",
    "Use .lower() ou .upper() para evitar erros de digitação (ex: \"rpg\" ou \"RPG\").\n",
    "\n",
    "Verifique se as entradas são válidas antes de recomendar.\n",
    "\n",
    "Você pode adicionar uma mensagem extra como: \"Bom jogo! 🎮🔥\" no final.\n",
    "\n"
   ]
  },
  {
   "cell_type": "code",
   "execution_count": null,
   "id": "d43fd1da",
   "metadata": {},
   "outputs": [],
   "source": [
    "genero_jogos = input(\"Qual o gênero de jogo você prefere?(fps, rpg, esprtes, balttle royale )\")\n",
    "duracao = input(\"Quanto tempo você pra jogar?(curto, medio, longo)\")\n",
    "if genero_jogos == \"fps\" and duracao ==\"curto\":\n",
    "    print(\"eu te recomendo o jogo valorante\")\n",
    "elif genero_filme == \"fps\" and duracao == \"medio\":\n",
    "    print(\"eu te recomendo o jogo call of duty:warzone\")\n",
    "elif genero_filme == \"fps\" and duracao == \"longo\":\n",
    "    print(\"eu te recomendo o jogo counter-strike\") \n",
    "elif genero_filme == \"rpg\" and duracao == \"curto\":\n",
    "    print(\"eu te recomendo duro de matar\")  \n",
    "elif genero_filme == \"rpg\" and duracao == \"medio\":\n",
    "    print(\"eu te recomendo superbad\")  \n",
    "elif genero_filme == \"rgp\" and duracao == \"longo\":    \n",
    "    print(\"eu te recomendo escola do rock\")      \n",
    "elif genero_filme == \"esprtes\" and duracao == \"curto\":    \n",
    "    print(\"eu te recomendo  S beber não se case \")\n",
    "elif genero_filme == \"esprtes\" and duracao == \"medio\":\n",
    "    print(\"eu te recomendo a noite do terror \")  \n",
    "elif  genero_filme == \"esprtes\" and duracao == \"\":\n",
    "    print(\"eu te recomendo invocação do mal\")"
   ]
  }
 ],
 "metadata": {
  "kernelspec": {
   "display_name": "Python 3",
   "language": "python",
   "name": "python3"
  },
  "language_info": {
   "codemirror_mode": {
    "name": "ipython",
    "version": 3
   },
   "file_extension": ".py",
   "mimetype": "text/x-python",
   "name": "python",
   "nbconvert_exporter": "python",
   "pygments_lexer": "ipython3",
   "version": "3.13.2"
  }
 },
 "nbformat": 4,
 "nbformat_minor": 5
}
