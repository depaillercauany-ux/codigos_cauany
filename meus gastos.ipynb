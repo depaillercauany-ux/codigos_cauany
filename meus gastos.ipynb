{
 "cells": [
  {
   "cell_type": "code",
   "execution_count": 12,
   "id": "76c9f744",
   "metadata": {},
   "outputs": [
    {
     "name": "stdout",
     "output_type": "stream",
     "text": [
      "sobrou 4350 reais do seu salario\n"
     ]
    }
   ],
   "source": [
    "meu_salario = 29000\n",
    "tanatopraxista = 19000\n",
    "agua =200\n",
    "carro = 2000 \n",
    "animal = 600\n",
    "comida = 2000 \n",
    "lazer = 500\n",
    "internet = 150\n",
    "\n",
    "gasto = tanatopraxista + luz + agua + carro + animal + comida + lazer + internet\n",
    "sobra = meu_salario - gasto \n",
    "print(f\"sobrou {sobra} reais do seu salario\")\n",
    "\n"
   ]
  }
 ],
 "metadata": {
  "kernelspec": {
   "display_name": "Python 3",
   "language": "python",
   "name": "python3"
  },
  "language_info": {
   "codemirror_mode": {
    "name": "ipython",
    "version": 3
   },
   "file_extension": ".py",
   "mimetype": "text/x-python",
   "name": "python",
   "nbconvert_exporter": "python",
   "pygments_lexer": "ipython3",
   "version": "3.13.2"
  }
 },
 "nbformat": 4,
 "nbformat_minor": 5
}
